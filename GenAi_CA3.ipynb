{
  "nbformat": 4,
  "nbformat_minor": 0,
  "metadata": {
    "colab": {
      "provenance": []
    },
    "kernelspec": {
      "name": "python3",
      "display_name": "Python 3"
    },
    "language_info": {
      "name": "python"
    }
  },
  "cells": [
    {
      "cell_type": "code",
      "execution_count": 7,
      "metadata": {
        "colab": {
          "base_uri": "https://localhost:8080/"
        },
        "id": "E4f8v-PwqVqf",
        "outputId": "760c28be-3bc5-4e82-9a74-592a7f98e973"
      },
      "outputs": [
        {
          "output_type": "execute_result",
          "data": {
            "text/plain": [
              "{'000000001': {'Fever': 'Y',\n",
              "  'Cough': 'Y0',\n",
              "  'Cold': 'Y',\n",
              "  'Other Symptoms': 'Body Ache'},\n",
              " '000000002': {'Fever': 'Y',\n",
              "  'Cough': 'Y0',\n",
              "  'Cold': 'Y',\n",
              "  'Other Symptoms': 'Shivering'},\n",
              " '000000003': {'Fever': 'Y',\n",
              "  'Cough': 'Y0',\n",
              "  'Cold': 'Y',\n",
              "  'Other Symptoms': 'Head Ache'},\n",
              " '000000004': {'Fever': 'Y',\n",
              "  'Cough': 'Y0',\n",
              "  'Cold': 'Y',\n",
              "  'Other Symptoms': 'Nausia'},\n",
              " '000000005': {'Fever': 'Y',\n",
              "  'Cough': 'Y0',\n",
              "  'Cold': 'Y',\n",
              "  'Other Symptoms': 'Sickness'},\n",
              " '000000006': {'Fever': 'Y',\n",
              "  'Cough': 'Y0',\n",
              "  'Cold': 'Y',\n",
              "  'Other Symptoms': 'Vertigo'},\n",
              " '000000007': {'Fever': 'Y',\n",
              "  'Cough': 'Y0',\n",
              "  'Cold': 'Y',\n",
              "  'Other Symptoms': 'Head Ache'},\n",
              " '000000008': {'Fever': 'Y',\n",
              "  'Cough': 'Y0',\n",
              "  'Cold': 'Y',\n",
              "  'Other Symptoms': 'Nausia'},\n",
              " '000000009': {'Fever': 'Y',\n",
              "  'Cough': 'Y0',\n",
              "  'Cold': 'Y',\n",
              "  'Other Symptoms': 'Sickness'},\n",
              " '000000010': {'Fever': 'Y',\n",
              "  'Cough': 'Y0',\n",
              "  'Cold': 'Y',\n",
              "  'Other Symptoms': 'Vertigo, Nausia'}}"
            ]
          },
          "metadata": {},
          "execution_count": 7
        }
      ],
      "source": [
        "import pandas as pd\n",
        "\n",
        "# Step 1: Load the dataset\n",
        "df = pd.read_csv('/Auto_Regressive_Model_Diffusion_Model_V_1.0.csv')\n",
        "\n",
        "# Step 2: Clean the data (remove rows with no values if needed)\n",
        "df_cleaned = df.dropna(how='all')\n",
        "\n",
        "symptom_dict = {\n",
        "    \"S1\": {\"Fever\": [\"Mild\", \"Low\", \"High\"]},\n",
        "    \"S2\": {\"Cough\": [\"Mild\", \"Low\", \"High\"]},\n",
        "    \"S3\": {\"Cold\": [\"Mild\", \"Low\", \"High\"]}\n",
        "}\n",
        "\n",
        "# Data given in step 1\n",
        "patient_data = [\n",
        "    {\"Patient_Id\": \"000000001\", \"Fever\": \"Y\", \"Cough\": \"Y0\", \"Cold\": \"Y\", \"Other Symptoms\": \"Body Ache\"},\n",
        "    {\"Patient_Id\": \"000000002\", \"Fever\": \"Y\", \"Cough\": \"Y0\", \"Cold\": \"Y\", \"Other Symptoms\": \"Shivering\"},\n",
        "    {\"Patient_Id\": \"000000003\", \"Fever\": \"Y\", \"Cough\": \"Y0\", \"Cold\": \"Y\", \"Other Symptoms\": \"Head Ache\"},\n",
        "    {\"Patient_Id\": \"000000004\", \"Fever\": \"Y\", \"Cough\": \"Y0\", \"Cold\": \"Y\", \"Other Symptoms\": \"Nausia\"},\n",
        "    {\"Patient_Id\": \"000000005\", \"Fever\": \"Y\", \"Cough\": \"Y0\", \"Cold\": \"Y\", \"Other Symptoms\": \"Sickness\"},\n",
        "    {\"Patient_Id\": \"000000006\", \"Fever\": \"Y\", \"Cough\": \"Y0\", \"Cold\": \"Y\", \"Other Symptoms\": \"Vertigo\"},\n",
        "    {\"Patient_Id\": \"000000007\", \"Fever\": \"Y\", \"Cough\": \"Y0\", \"Cold\": \"Y\", \"Other Symptoms\": \"Head Ache\"},\n",
        "    {\"Patient_Id\": \"000000008\", \"Fever\": \"Y\", \"Cough\": \"Y0\", \"Cold\": \"Y\", \"Other Symptoms\": \"Nausia\"},\n",
        "    {\"Patient_Id\": \"000000009\", \"Fever\": \"Y\", \"Cough\": \"Y0\", \"Cold\": \"Y\", \"Other Symptoms\": \"Sickness\"},\n",
        "    {\"Patient_Id\": \"000000010\", \"Fever\": \"Y\", \"Cough\": \"Y0\", \"Cold\": \"Y\", \"Other Symptoms\": \"Vertigo, Nausia\"}\n",
        "]\n",
        "\n",
        "# Parse data and create a dictionary for patient symptoms\n",
        "parsed_data = {}\n",
        "for patient in patient_data:\n",
        "    patient_id = patient[\"Patient_Id\"]\n",
        "    parsed_data[patient_id] = {\n",
        "        \"Fever\": patient[\"Fever\"],\n",
        "        \"Cough\": patient[\"Cough\"],\n",
        "        \"Cold\": patient[\"Cold\"],\n",
        "        \"Other Symptoms\": patient[\"Other Symptoms\"]\n",
        "    }\n",
        "\n",
        "# Output parsed data dictionary\n",
        "parsed_data"
      ]
    }
  ]
}